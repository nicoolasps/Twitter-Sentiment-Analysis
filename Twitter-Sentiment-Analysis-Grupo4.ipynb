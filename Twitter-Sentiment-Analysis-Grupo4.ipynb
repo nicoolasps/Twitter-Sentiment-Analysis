{
  "cells": [
    {
      "cell_type": "markdown",
      "source": [
        "# **Imports**"
      ],
      "metadata": {
        "id": "V51jN3FSLW5j"
      }
    },
    {
      "cell_type": "code",
      "source": [
        "import pandas as pd\n",
        "from textblob import TextBlob\n",
        "import numpy as np\n",
        "import matplotlib.pyplot as plt\n",
        "import seaborn as sns\n",
        "import re\n",
        "import nltk\n",
        "from nltk.corpus import stopwords\n",
        "from nltk.tokenize import word_tokenize\n",
        "from nltk.stem import WordNetLemmatizer\n",
        "import keras\n",
        "from sklearn.model_selection import train_test_split\n",
        "from sklearn.model_selection import cross_val_score\n",
        "import numpy as np\n",
        "import tensorflow as tf\n",
        "from tensorflow import keras\n",
        "from tensorflow.keras.preprocessing.text import Tokenizer\n",
        "import seaborn as sns\n",
        "from sklearn.feature_extraction.text import TfidfVectorizer\n",
        "from sklearn.model_selection import train_test_split\n",
        "from sklearn.metrics import accuracy_score\n",
        "from sklearn.metrics import confusion_matrix, ConfusionMatrixDisplay\n",
        "from collections import Counter"
      ],
      "metadata": {
        "id": "1sJzkMTVZZLz"
      },
      "execution_count": 317,
      "outputs": []
    },
    {
      "cell_type": "markdown",
      "source": [
        "# **Lectura y analisis del dataset**"
      ],
      "metadata": {
        "id": "1uULyvksLeuT"
      }
    },
    {
      "cell_type": "code",
      "source": [
        "url_dataset = \"https://raw.githubusercontent.com/nicoolasps/Twitter-Sentiment-Analysis/main/twitter_tweets.csv\"\n",
        "df_twitter = pd.read_csv(url_dataset, names=[\"Tweet_ID\", \"Entity\", \"Sentiment\", \"Tweet_Content\"])\n",
        "df_twitter.head()"
      ],
      "metadata": {
        "colab": {
          "base_uri": "https://localhost:8080/",
          "height": 206
        },
        "id": "TykDJkxpLjCZ",
        "outputId": "1c2ee0bd-c2e8-4c05-fab6-406fc108d10d"
      },
      "execution_count": 2,
      "outputs": [
        {
          "output_type": "execute_result",
          "data": {
            "text/html": [
              "<div>\n",
              "<style scoped>\n",
              "    .dataframe tbody tr th:only-of-type {\n",
              "        vertical-align: middle;\n",
              "    }\n",
              "\n",
              "    .dataframe tbody tr th {\n",
              "        vertical-align: top;\n",
              "    }\n",
              "\n",
              "    .dataframe thead th {\n",
              "        text-align: right;\n",
              "    }\n",
              "</style>\n",
              "<table border=\"1\" class=\"dataframe\">\n",
              "  <thead>\n",
              "    <tr style=\"text-align: right;\">\n",
              "      <th></th>\n",
              "      <th>Tweet_ID</th>\n",
              "      <th>Entity</th>\n",
              "      <th>Sentiment</th>\n",
              "      <th>Tweet_Content</th>\n",
              "    </tr>\n",
              "  </thead>\n",
              "  <tbody>\n",
              "    <tr>\n",
              "      <th>0</th>\n",
              "      <td>2401</td>\n",
              "      <td>Borderlands</td>\n",
              "      <td>Positive</td>\n",
              "      <td>im getting on borderlands and i will murder yo...</td>\n",
              "    </tr>\n",
              "    <tr>\n",
              "      <th>1</th>\n",
              "      <td>2401</td>\n",
              "      <td>Borderlands</td>\n",
              "      <td>Positive</td>\n",
              "      <td>I am coming to the borders and I will kill you...</td>\n",
              "    </tr>\n",
              "    <tr>\n",
              "      <th>2</th>\n",
              "      <td>2401</td>\n",
              "      <td>Borderlands</td>\n",
              "      <td>Positive</td>\n",
              "      <td>im getting on borderlands and i will kill you ...</td>\n",
              "    </tr>\n",
              "    <tr>\n",
              "      <th>3</th>\n",
              "      <td>2401</td>\n",
              "      <td>Borderlands</td>\n",
              "      <td>Positive</td>\n",
              "      <td>im coming on borderlands and i will murder you...</td>\n",
              "    </tr>\n",
              "    <tr>\n",
              "      <th>4</th>\n",
              "      <td>2401</td>\n",
              "      <td>Borderlands</td>\n",
              "      <td>Positive</td>\n",
              "      <td>im getting on borderlands 2 and i will murder ...</td>\n",
              "    </tr>\n",
              "  </tbody>\n",
              "</table>\n",
              "</div>"
            ],
            "text/plain": [
              "   Tweet_ID  ...                                      Tweet_Content\n",
              "0      2401  ...  im getting on borderlands and i will murder yo...\n",
              "1      2401  ...  I am coming to the borders and I will kill you...\n",
              "2      2401  ...  im getting on borderlands and i will kill you ...\n",
              "3      2401  ...  im coming on borderlands and i will murder you...\n",
              "4      2401  ...  im getting on borderlands 2 and i will murder ...\n",
              "\n",
              "[5 rows x 4 columns]"
            ]
          },
          "metadata": {},
          "execution_count": 2
        }
      ]
    },
    {
      "cell_type": "code",
      "source": [
        "df_twitter['Entity'].unique()"
      ],
      "metadata": {
        "colab": {
          "base_uri": "https://localhost:8080/"
        },
        "id": "wJJdWPZeMv56",
        "outputId": "44afb2fb-108a-43b8-8c6a-b1cc70dc3263"
      },
      "execution_count": 3,
      "outputs": [
        {
          "output_type": "execute_result",
          "data": {
            "text/plain": [
              "array(['Borderlands', 'CallOfDutyBlackopsColdWar', 'Amazon', 'Overwatch',\n",
              "       'Xbox(Xseries)', 'NBA2K', 'Dota2', 'PlayStation5(PS5)',\n",
              "       'WorldOfCraft', 'CS-GO', 'Google', 'AssassinsCreed', 'ApexLegends',\n",
              "       'LeagueOfLegends', 'Fortnite', 'Microsoft', 'Hearthstone',\n",
              "       'Battlefield', 'PlayerUnknownsBattlegrounds(PUBG)', 'Verizon',\n",
              "       'HomeDepot', 'FIFA', 'RedDeadRedemption(RDR)', 'CallOfDuty',\n",
              "       'TomClancysRainbowSix', 'Facebook', 'GrandTheftAuto(GTA)',\n",
              "       'MaddenNFL', 'johnson&johnson', 'Cyberpunk2077',\n",
              "       'TomClancysGhostRecon', 'Nvidia'], dtype=object)"
            ]
          },
          "metadata": {},
          "execution_count": 3
        }
      ]
    },
    {
      "cell_type": "code",
      "source": [
        "df_twitter['Sentiment'].unique()"
      ],
      "metadata": {
        "colab": {
          "base_uri": "https://localhost:8080/"
        },
        "id": "Dy6wHj20M09_",
        "outputId": "60d16ef5-a48d-4d65-d628-1a54a13bd0f3"
      },
      "execution_count": 4,
      "outputs": [
        {
          "output_type": "execute_result",
          "data": {
            "text/plain": [
              "array(['Positive', 'Neutral', 'Negative', 'Irrelevant'], dtype=object)"
            ]
          },
          "metadata": {},
          "execution_count": 4
        }
      ]
    },
    {
      "cell_type": "code",
      "source": [
        "entity_sentiment = df_twitter.groupby(['Entity','Sentiment']).Sentiment.count().unstack()\n",
        "entity_sentiment.plot(kind='barh')"
      ],
      "metadata": {
        "colab": {
          "base_uri": "https://localhost:8080/",
          "height": 284
        },
        "id": "S7Z2CcSiMie2",
        "outputId": "5138de0e-ecb8-4f39-91fe-fbe2ed73d4ee"
      },
      "execution_count": 5,
      "outputs": [
        {
          "output_type": "execute_result",
          "data": {
            "text/plain": [
              "<matplotlib.axes._subplots.AxesSubplot at 0x7f83362d9fd0>"
            ]
          },
          "metadata": {},
          "execution_count": 5
        },
        {
          "output_type": "display_data",
          "data": {
            "image/png": "[encoded data removed]",
            "text/plain": [
              "<Figure size 432x288 with 1 Axes>"
            ]
          },
          "metadata": {
            "needs_background": "light"
          }
        }
      ]
    },
    {
      "cell_type": "code",
      "source": [
        "df_twitter.Sentiment.value_counts().plot(kind='pie', autopct='%1.0f%%')"
      ],
      "metadata": {
        "colab": {
          "base_uri": "https://localhost:8080/",
          "height": 266
        },
        "id": "k0nJqJTRM6VX",
        "outputId": "ef2fe63d-1d3a-41e6-af77-48b602fd5f04"
      },
      "execution_count": 6,
      "outputs": [
        {
          "output_type": "execute_result",
          "data": {
            "text/plain": [
              "<matplotlib.axes._subplots.AxesSubplot at 0x7f8335b5cf50>"
            ]
          },
          "metadata": {},
          "execution_count": 6
        },
        {
          "output_type": "display_data",
          "data": {
            "image/png": "[encoded data removed]",
            "text/plain": [
              "<Figure size 432x288 with 1 Axes>"
            ]
          },
          "metadata": {}
        }
      ]
    },
    {
      "cell_type": "markdown",
      "source": [
        "## **SciKitLearn**"
      ],
      "metadata": {
        "id": "-bRpUsEFNLwR"
      }
    },
    {
      "cell_type": "markdown",
      "source": [
        "**Creación matriz con los Tweets**"
      ],
      "metadata": {
        "id": "EO86UlrZNWbc"
      }
    },
    {
      "cell_type": "code",
      "source": [
        "tweet_content = df_twitter.iloc[:, 3].values\n",
        "tweet_content"
      ],
      "metadata": {
        "colab": {
          "base_uri": "https://localhost:8080/"
        },
        "id": "Za7gqo2GNPnb",
        "outputId": "a68bb562-1f19-4320-a050-51d43767b1cf"
      },
      "execution_count": 233,
      "outputs": [
        {
          "output_type": "execute_result",
          "data": {
            "text/plain": [
              "array(['im getting on borderlands and i will murder you all ,',\n",
              "       'I am coming to the borders and I will kill you all,',\n",
              "       'im getting on borderlands and i will kill you all,', ...,\n",
              "       'Just realized the windows partition of my Mac is now 6 years behind on Nvidia drivers and I have no idea how he didn’t notice',\n",
              "       'Just realized between the windows partition of my Mac is like being 6 years behind on Nvidia drivers and cars I have no fucking idea how I ever didn ’ t notice',\n",
              "       'Just like the windows partition of my Mac is like 6 years behind on its drivers So you have no idea how I didn’t notice'],\n",
              "      dtype=object)"
            ]
          },
          "metadata": {},
          "execution_count": 233
        }
      ]
    },
    {
      "cell_type": "code",
      "source": [
        "entities = df_twitter.iloc[:, 1].values\n",
        "entities"
      ],
      "metadata": {
        "colab": {
          "base_uri": "https://localhost:8080/"
        },
        "id": "1aAOeq0aNqSi",
        "outputId": "a510ef88-2f9e-4c92-97c9-010aff308c74"
      },
      "execution_count": 234,
      "outputs": [
        {
          "output_type": "execute_result",
          "data": {
            "text/plain": [
              "array(['Borderlands', 'Borderlands', 'Borderlands', ..., 'Nvidia',\n",
              "       'Nvidia', 'Nvidia'], dtype=object)"
            ]
          },
          "metadata": {},
          "execution_count": 234
        }
      ]
    },
    {
      "cell_type": "code",
      "source": [
        "processed_tweets = []\n",
        "for tweet in range(0, len(tweet_content)):\n",
        "    processed_tweet = re.sub(r'\\W', ' ', str(tweet_content[tweet]))\n",
        "    processed_tweet = re.sub(r'\\s+', ' ', processed_tweet, flags=re.I)\n",
        "    processed_tweet = re.sub(r'^b\\s+', '', processed_tweet)\n",
        "    processed_tweet = processed_tweet.lower()\n",
        "    processed_tweets.append(processed_tweet)"
      ],
      "metadata": {
        "id": "5iOJlO-aN_uS"
      },
      "execution_count": 235,
      "outputs": []
    },
    {
      "cell_type": "code",
      "source": [
        "nltk.download('stopwords')"
      ],
      "metadata": {
        "colab": {
          "base_uri": "https://localhost:8080/"
        },
        "id": "dr99xPbZOv8-",
        "outputId": "252b4c3b-a58a-44d6-887a-d81eae30e670"
      },
      "execution_count": 10,
      "outputs": [
        {
          "output_type": "stream",
          "name": "stdout",
          "text": [
            "[nltk_data] Downloading package stopwords to /root/nltk_data...\n",
            "[nltk_data]   Package stopwords is already up-to-date!\n"
          ]
        },
        {
          "output_type": "execute_result",
          "data": {
            "text/plain": [
              "True"
            ]
          },
          "metadata": {},
          "execution_count": 10
        }
      ]
    },
    {
      "cell_type": "code",
      "source": [
        "vectorizer = TfidfVectorizer (max_features=2500, min_df=7, max_df=0.8, stop_words=stopwords.words('english'))\n",
        "processed_tweets = vectorizer.fit_transform(processed_tweets).toarray()"
      ],
      "metadata": {
        "id": "oOWNb8trOm4b"
      },
      "execution_count": 236,
      "outputs": []
    },
    {
      "cell_type": "markdown",
      "source": [
        "**Dividiendo el dataset**"
      ],
      "metadata": {
        "id": "KDt9BC9eP7do"
      }
    },
    {
      "cell_type": "code",
      "source": [
        "X_train, X_test, y_train, y_test = train_test_split(processed_tweets, entities, test_size=0.2, random_state=1)"
      ],
      "metadata": {
        "id": "66TnV7gSN4Jv"
      },
      "execution_count": 237,
      "outputs": []
    },
    {
      "cell_type": "markdown",
      "source": [
        "**Random Forest Classifier**"
      ],
      "metadata": {
        "id": "j3XiZc_CQHih"
      }
    },
    {
      "cell_type": "code",
      "source": [
        "from sklearn.ensemble import RandomForestClassifier\n",
        "\n",
        "text_classifier = RandomForestClassifier(n_estimators=10, random_state=0)\n",
        "text_classifier.fit(X_train, y_train)"
      ],
      "metadata": {
        "colab": {
          "base_uri": "https://localhost:8080/"
        },
        "id": "DhlqouksQJ-O",
        "outputId": "afed49ac-bf0b-4e00-9b12-167d38902712"
      },
      "execution_count": 238,
      "outputs": [
        {
          "output_type": "execute_result",
          "data": {
            "text/plain": [
              "RandomForestClassifier(n_estimators=10, random_state=0)"
            ]
          },
          "metadata": {},
          "execution_count": 238
        }
      ]
    },
    {
      "cell_type": "code",
      "source": [
        "predictions = text_classifier.predict(X_test)"
      ],
      "metadata": {
        "id": "Up2SOYEiQPC4"
      },
      "execution_count": 239,
      "outputs": []
    },
    {
      "cell_type": "code",
      "source": [
        "rfc_accuracy = accuracy_score(y_test, predictions)\n",
        "rfc_accuracy"
      ],
      "metadata": {
        "colab": {
          "base_uri": "https://localhost:8080/"
        },
        "id": "LAiip7NTQUW7",
        "outputId": "0bfa0389-0a78-4b36-c56b-9eb36d18fcf8"
      },
      "execution_count": 326,
      "outputs": [
        {
          "output_type": "execute_result",
          "data": {
            "text/plain": [
              "0.8383108108108108"
            ]
          },
          "metadata": {},
          "execution_count": 326
        }
      ]
    },
    {
      "cell_type": "code",
      "source": [
        "n_scores = cross_val_score(text_classifier, X_train, y_train, scoring='accuracy', cv=10, n_jobs=-1, error_score='raise')"
      ],
      "metadata": {
        "id": "ow9ha2cyjnZy"
      },
      "execution_count": 241,
      "outputs": []
    },
    {
      "cell_type": "code",
      "source": [
        "n_scores"
      ],
      "metadata": {
        "colab": {
          "base_uri": "https://localhost:8080/"
        },
        "id": "VtwKc8Opis_0",
        "outputId": "51ac34e0-46b0-4a8a-c250-33e17a4cd72d"
      },
      "execution_count": 242,
      "outputs": [
        {
          "output_type": "execute_result",
          "data": {
            "text/plain": [
              "array([0.83597973, 0.84172297, 0.83260135, 0.83564189, 0.83733108,\n",
              "       0.83885135, 0.83358675, 0.83257307, 0.83662781, 0.83172833])"
            ]
          },
          "metadata": {},
          "execution_count": 242
        }
      ]
    },
    {
      "cell_type": "markdown",
      "source": [
        "**Gráfico precisión al entrenar el modelo**"
      ],
      "metadata": {
        "id": "HtRQQlZu5uqq"
      }
    },
    {
      "cell_type": "code",
      "source": [
        "cv_rfc = {'Fold': ['1', '2', '3', '4', '5', '6', '7', '8', '9', '10'], 'Accuracy': n_scores}\n",
        "cv_table = pd.DataFrame(cv_rfc, columns = ['Fold', 'Accuracy'])\n",
        "g_cv = sns.lineplot(x = 'Fold', y = 'Accuracy', data = cv_table, color = 'blue')\n",
        "\n",
        "for x, y in zip(cv_table['Fold'], cv_table['Accuracy']):\n",
        " plt.text(x = x, y = y, s = '{:.4f}'.format(y)) \n",
        "\n",
        "g_cv.set(title='Entrenamiento')\n",
        "plt.grid('y')\n",
        "plt.show()"
      ],
      "metadata": {
        "colab": {
          "base_uri": "https://localhost:8080/",
          "height": 294
        },
        "id": "LD0cXIyLyZz5",
        "outputId": "2a9414e0-b215-4459-f16a-444b679bd6c3"
      },
      "execution_count": 342,
      "outputs": [
        {
          "output_type": "display_data",
          "data": {
            "image/png": "[encoded data removed]",
            "text/plain": [
              "<Figure size 432x288 with 1 Axes>"
            ]
          },
          "metadata": {
            "needs_background": "light"
          }
        }
      ]
    },
    {
      "cell_type": "markdown",
      "source": [
        "# **Keras**"
      ],
      "metadata": {
        "id": "K-CAEgX8Qpw4"
      }
    },
    {
      "cell_type": "code",
      "source": [
        "df_twitter = df_twitter.dropna()\n",
        "df_keras = df_twitter.sample(frac=0.1)\n",
        "df_keras.reset_index(drop=True, inplace=True)\n",
        "df_keras"
      ],
      "metadata": {
        "colab": {
          "base_uri": "https://localhost:8080/",
          "height": 423
        },
        "id": "-8QZIUtUQzPN",
        "outputId": "e0e5d9f8-36b3-46d4-ebc9-c0a27c0a1162"
      },
      "execution_count": 288,
      "outputs": [
        {
          "output_type": "execute_result",
          "data": {
            "text/html": [
              "<div>\n",
              "<style scoped>\n",
              "    .dataframe tbody tr th:only-of-type {\n",
              "        vertical-align: middle;\n",
              "    }\n",
              "\n",
              "    .dataframe tbody tr th {\n",
              "        vertical-align: top;\n",
              "    }\n",
              "\n",
              "    .dataframe thead th {\n",
              "        text-align: right;\n",
              "    }\n",
              "</style>\n",
              "<table border=\"1\" class=\"dataframe\">\n",
              "  <thead>\n",
              "    <tr style=\"text-align: right;\">\n",
              "      <th></th>\n",
              "      <th>Tweet_ID</th>\n",
              "      <th>Entity</th>\n",
              "      <th>Sentiment</th>\n",
              "      <th>Tweet_Content</th>\n",
              "    </tr>\n",
              "  </thead>\n",
              "  <tbody>\n",
              "    <tr>\n",
              "      <th>0</th>\n",
              "      <td>10882</td>\n",
              "      <td>TomClancysGhostRecon</td>\n",
              "      <td>Neutral</td>\n",
              "      <td>Filter selfies are I AM getting pretty murdere...</td>\n",
              "    </tr>\n",
              "    <tr>\n",
              "      <th>1</th>\n",
              "      <td>9219</td>\n",
              "      <td>Overwatch</td>\n",
              "      <td>Positive</td>\n",
              "      <td>Great game night with my husband @ xtremefanat...</td>\n",
              "    </tr>\n",
              "    <tr>\n",
              "      <th>2</th>\n",
              "      <td>8880</td>\n",
              "      <td>Nvidia</td>\n",
              "      <td>Negative</td>\n",
              "      <td>Do not understand how Nvidia can issue a card ...</td>\n",
              "    </tr>\n",
              "    <tr>\n",
              "      <th>3</th>\n",
              "      <td>666</td>\n",
              "      <td>ApexLegends</td>\n",
              "      <td>Positive</td>\n",
              "      <td>Oh man how this story is very good!!.. -. -...</td>\n",
              "    </tr>\n",
              "    <tr>\n",
              "      <th>4</th>\n",
              "      <td>8539</td>\n",
              "      <td>NBA2K</td>\n",
              "      <td>Positive</td>\n",
              "      <td>H Mad respect RhandlerR .  pic.twitter.com/SFl...</td>\n",
              "    </tr>\n",
              "    <tr>\n",
              "      <th>...</th>\n",
              "      <td>...</td>\n",
              "      <td>...</td>\n",
              "      <td>...</td>\n",
              "      <td>...</td>\n",
              "    </tr>\n",
              "    <tr>\n",
              "      <th>7395</th>\n",
              "      <td>10791</td>\n",
              "      <td>RedDeadRedemption(RDR)</td>\n",
              "      <td>Positive</td>\n",
              "      <td>I enjoy the details that Leo captures in games.</td>\n",
              "    </tr>\n",
              "    <tr>\n",
              "      <th>7396</th>\n",
              "      <td>8594</td>\n",
              "      <td>NBA2K</td>\n",
              "      <td>Negative</td>\n",
              "      <td>Wow @ N2K wtf why Park &amp; Rec?????? Spend too m...</td>\n",
              "    </tr>\n",
              "    <tr>\n",
              "      <th>7397</th>\n",
              "      <td>7876</td>\n",
              "      <td>MaddenNFL</td>\n",
              "      <td>Negative</td>\n",
              "      <td>Double DOG! Wtf think is Vick doing?</td>\n",
              "    </tr>\n",
              "    <tr>\n",
              "      <th>7398</th>\n",
              "      <td>10963</td>\n",
              "      <td>TomClancysGhostRecon</td>\n",
              "      <td>Positive</td>\n",
              "      <td>Wow the new upgrading update for... Lots of Sp...</td>\n",
              "    </tr>\n",
              "    <tr>\n",
              "      <th>7399</th>\n",
              "      <td>5093</td>\n",
              "      <td>GrandTheftAuto(GTA)</td>\n",
              "      <td>Positive</td>\n",
              "      <td>I love playing gta and cod always so passionate</td>\n",
              "    </tr>\n",
              "  </tbody>\n",
              "</table>\n",
              "<p>7400 rows × 4 columns</p>\n",
              "</div>"
            ],
            "text/plain": [
              "      Tweet_ID  ...                                      Tweet_Content\n",
              "0        10882  ...  Filter selfies are I AM getting pretty murdere...\n",
              "1         9219  ...  Great game night with my husband @ xtremefanat...\n",
              "2         8880  ...  Do not understand how Nvidia can issue a card ...\n",
              "3          666  ...     Oh man how this story is very good!!.. -. -...\n",
              "4         8539  ...  H Mad respect RhandlerR .  pic.twitter.com/SFl...\n",
              "...        ...  ...                                                ...\n",
              "7395     10791  ...    I enjoy the details that Leo captures in games.\n",
              "7396      8594  ...  Wow @ N2K wtf why Park & Rec?????? Spend too m...\n",
              "7397      7876  ...               Double DOG! Wtf think is Vick doing?\n",
              "7398     10963  ...  Wow the new upgrading update for... Lots of Sp...\n",
              "7399      5093  ...    I love playing gta and cod always so passionate\n",
              "\n",
              "[7400 rows x 4 columns]"
            ]
          },
          "metadata": {},
          "execution_count": 288
        }
      ]
    },
    {
      "cell_type": "code",
      "source": [
        "sentiments = list(df_keras[\"Sentiment\"].unique())\n",
        "sentiments"
      ],
      "metadata": {
        "colab": {
          "base_uri": "https://localhost:8080/"
        },
        "id": "bsZgciNRRq55",
        "outputId": "dc1c6b13-fd55-49ec-c4fd-0ad153960f25"
      },
      "execution_count": 289,
      "outputs": [
        {
          "output_type": "execute_result",
          "data": {
            "text/plain": [
              "['Neutral', 'Positive', 'Negative', 'Irrelevant']"
            ]
          },
          "metadata": {},
          "execution_count": 289
        }
      ]
    },
    {
      "cell_type": "code",
      "source": [
        "onehot_ = pd.get_dummies(df_keras[\"Entity\"], prefix=\"Entity\")\n",
        "df_keras = df_keras.join(onehot_)\n",
        "df_keras.head()"
      ],
      "metadata": {
        "colab": {
          "base_uri": "https://localhost:8080/",
          "height": 416
        },
        "id": "OoYiB5djSAEe",
        "outputId": "dbf4ef4f-3616-4136-cfbe-a22ce4dab107"
      },
      "execution_count": 290,
      "outputs": [
        {
          "output_type": "execute_result",
          "data": {
            "text/html": [
              "<div>\n",
              "<style scoped>\n",
              "    .dataframe tbody tr th:only-of-type {\n",
              "        vertical-align: middle;\n",
              "    }\n",
              "\n",
              "    .dataframe tbody tr th {\n",
              "        vertical-align: top;\n",
              "    }\n",
              "\n",
              "    .dataframe thead th {\n",
              "        text-align: right;\n",
              "    }\n",
              "</style>\n",
              "<table border=\"1\" class=\"dataframe\">\n",
              "  <thead>\n",
              "    <tr style=\"text-align: right;\">\n",
              "      <th></th>\n",
              "      <th>Tweet_ID</th>\n",
              "      <th>Entity</th>\n",
              "      <th>Sentiment</th>\n",
              "      <th>Tweet_Content</th>\n",
              "      <th>Entity_Amazon</th>\n",
              "      <th>Entity_ApexLegends</th>\n",
              "      <th>Entity_AssassinsCreed</th>\n",
              "      <th>Entity_Battlefield</th>\n",
              "      <th>Entity_Borderlands</th>\n",
              "      <th>Entity_CS-GO</th>\n",
              "      <th>Entity_CallOfDuty</th>\n",
              "      <th>Entity_CallOfDutyBlackopsColdWar</th>\n",
              "      <th>Entity_Cyberpunk2077</th>\n",
              "      <th>Entity_Dota2</th>\n",
              "      <th>Entity_FIFA</th>\n",
              "      <th>Entity_Facebook</th>\n",
              "      <th>Entity_Fortnite</th>\n",
              "      <th>Entity_Google</th>\n",
              "      <th>Entity_GrandTheftAuto(GTA)</th>\n",
              "      <th>Entity_Hearthstone</th>\n",
              "      <th>Entity_HomeDepot</th>\n",
              "      <th>Entity_LeagueOfLegends</th>\n",
              "      <th>Entity_MaddenNFL</th>\n",
              "      <th>Entity_Microsoft</th>\n",
              "      <th>Entity_NBA2K</th>\n",
              "      <th>Entity_Nvidia</th>\n",
              "      <th>Entity_Overwatch</th>\n",
              "      <th>Entity_PlayStation5(PS5)</th>\n",
              "      <th>Entity_PlayerUnknownsBattlegrounds(PUBG)</th>\n",
              "      <th>Entity_RedDeadRedemption(RDR)</th>\n",
              "      <th>Entity_TomClancysGhostRecon</th>\n",
              "      <th>Entity_TomClancysRainbowSix</th>\n",
              "      <th>Entity_Verizon</th>\n",
              "      <th>Entity_WorldOfCraft</th>\n",
              "      <th>Entity_Xbox(Xseries)</th>\n",
              "      <th>Entity_johnson&amp;johnson</th>\n",
              "    </tr>\n",
              "  </thead>\n",
              "  <tbody>\n",
              "    <tr>\n",
              "      <th>0</th>\n",
              "      <td>10882</td>\n",
              "      <td>TomClancysGhostRecon</td>\n",
              "      <td>Neutral</td>\n",
              "      <td>Filter selfies are I AM getting pretty murdere...</td>\n",
              "      <td>0</td>\n",
              "      <td>0</td>\n",
              "      <td>0</td>\n",
              "      <td>0</td>\n",
              "      <td>0</td>\n",
              "      <td>0</td>\n",
              "      <td>0</td>\n",
              "      <td>0</td>\n",
              "      <td>0</td>\n",
              "      <td>0</td>\n",
              "      <td>0</td>\n",
              "      <td>0</td>\n",
              "      <td>0</td>\n",
              "      <td>0</td>\n",
              "      <td>0</td>\n",
              "      <td>0</td>\n",
              "      <td>0</td>\n",
              "      <td>0</td>\n",
              "      <td>0</td>\n",
              "      <td>0</td>\n",
              "      <td>0</td>\n",
              "      <td>0</td>\n",
              "      <td>0</td>\n",
              "      <td>0</td>\n",
              "      <td>0</td>\n",
              "      <td>0</td>\n",
              "      <td>1</td>\n",
              "      <td>0</td>\n",
              "      <td>0</td>\n",
              "      <td>0</td>\n",
              "      <td>0</td>\n",
              "      <td>0</td>\n",
              "    </tr>\n",
              "    <tr>\n",
              "      <th>1</th>\n",
              "      <td>9219</td>\n",
              "      <td>Overwatch</td>\n",
              "      <td>Positive</td>\n",
              "      <td>Great game night with my husband @ xtremefanat...</td>\n",
              "      <td>0</td>\n",
              "      <td>0</td>\n",
              "      <td>0</td>\n",
              "      <td>0</td>\n",
              "      <td>0</td>\n",
              "      <td>0</td>\n",
              "      <td>0</td>\n",
              "      <td>0</td>\n",
              "      <td>0</td>\n",
              "      <td>0</td>\n",
              "      <td>0</td>\n",
              "      <td>0</td>\n",
              "      <td>0</td>\n",
              "      <td>0</td>\n",
              "      <td>0</td>\n",
              "      <td>0</td>\n",
              "      <td>0</td>\n",
              "      <td>0</td>\n",
              "      <td>0</td>\n",
              "      <td>0</td>\n",
              "      <td>0</td>\n",
              "      <td>0</td>\n",
              "      <td>1</td>\n",
              "      <td>0</td>\n",
              "      <td>0</td>\n",
              "      <td>0</td>\n",
              "      <td>0</td>\n",
              "      <td>0</td>\n",
              "      <td>0</td>\n",
              "      <td>0</td>\n",
              "      <td>0</td>\n",
              "      <td>0</td>\n",
              "    </tr>\n",
              "    <tr>\n",
              "      <th>2</th>\n",
              "      <td>8880</td>\n",
              "      <td>Nvidia</td>\n",
              "      <td>Negative</td>\n",
              "      <td>Do not understand how Nvidia can issue a card ...</td>\n",
              "      <td>0</td>\n",
              "      <td>0</td>\n",
              "      <td>0</td>\n",
              "      <td>0</td>\n",
              "      <td>0</td>\n",
              "      <td>0</td>\n",
              "      <td>0</td>\n",
              "      <td>0</td>\n",
              "      <td>0</td>\n",
              "      <td>0</td>\n",
              "      <td>0</td>\n",
              "      <td>0</td>\n",
              "      <td>0</td>\n",
              "      <td>0</td>\n",
              "      <td>0</td>\n",
              "      <td>0</td>\n",
              "      <td>0</td>\n",
              "      <td>0</td>\n",
              "      <td>0</td>\n",
              "      <td>0</td>\n",
              "      <td>0</td>\n",
              "      <td>1</td>\n",
              "      <td>0</td>\n",
              "      <td>0</td>\n",
              "      <td>0</td>\n",
              "      <td>0</td>\n",
              "      <td>0</td>\n",
              "      <td>0</td>\n",
              "      <td>0</td>\n",
              "      <td>0</td>\n",
              "      <td>0</td>\n",
              "      <td>0</td>\n",
              "    </tr>\n",
              "    <tr>\n",
              "      <th>3</th>\n",
              "      <td>666</td>\n",
              "      <td>ApexLegends</td>\n",
              "      <td>Positive</td>\n",
              "      <td>Oh man how this story is very good!!.. -. -...</td>\n",
              "      <td>0</td>\n",
              "      <td>1</td>\n",
              "      <td>0</td>\n",
              "      <td>0</td>\n",
              "      <td>0</td>\n",
              "      <td>0</td>\n",
              "      <td>0</td>\n",
              "      <td>0</td>\n",
              "      <td>0</td>\n",
              "      <td>0</td>\n",
              "      <td>0</td>\n",
              "      <td>0</td>\n",
              "      <td>0</td>\n",
              "      <td>0</td>\n",
              "      <td>0</td>\n",
              "      <td>0</td>\n",
              "      <td>0</td>\n",
              "      <td>0</td>\n",
              "      <td>0</td>\n",
              "      <td>0</td>\n",
              "      <td>0</td>\n",
              "      <td>0</td>\n",
              "      <td>0</td>\n",
              "      <td>0</td>\n",
              "      <td>0</td>\n",
              "      <td>0</td>\n",
              "      <td>0</td>\n",
              "      <td>0</td>\n",
              "      <td>0</td>\n",
              "      <td>0</td>\n",
              "      <td>0</td>\n",
              "      <td>0</td>\n",
              "    </tr>\n",
              "    <tr>\n",
              "      <th>4</th>\n",
              "      <td>8539</td>\n",
              "      <td>NBA2K</td>\n",
              "      <td>Positive</td>\n",
              "      <td>H Mad respect RhandlerR .  pic.twitter.com/SFl...</td>\n",
              "      <td>0</td>\n",
              "      <td>0</td>\n",
              "      <td>0</td>\n",
              "      <td>0</td>\n",
              "      <td>0</td>\n",
              "      <td>0</td>\n",
              "      <td>0</td>\n",
              "      <td>0</td>\n",
              "      <td>0</td>\n",
              "      <td>0</td>\n",
              "      <td>0</td>\n",
              "      <td>0</td>\n",
              "      <td>0</td>\n",
              "      <td>0</td>\n",
              "      <td>0</td>\n",
              "      <td>0</td>\n",
              "      <td>0</td>\n",
              "      <td>0</td>\n",
              "      <td>0</td>\n",
              "      <td>0</td>\n",
              "      <td>1</td>\n",
              "      <td>0</td>\n",
              "      <td>0</td>\n",
              "      <td>0</td>\n",
              "      <td>0</td>\n",
              "      <td>0</td>\n",
              "      <td>0</td>\n",
              "      <td>0</td>\n",
              "      <td>0</td>\n",
              "      <td>0</td>\n",
              "      <td>0</td>\n",
              "      <td>0</td>\n",
              "    </tr>\n",
              "  </tbody>\n",
              "</table>\n",
              "</div>"
            ],
            "text/plain": [
              "   Tweet_ID                Entity  ... Entity_Xbox(Xseries) Entity_johnson&johnson\n",
              "0     10882  TomClancysGhostRecon  ...                    0                      0\n",
              "1      9219             Overwatch  ...                    0                      0\n",
              "2      8880                Nvidia  ...                    0                      0\n",
              "3       666           ApexLegends  ...                    0                      0\n",
              "4      8539                 NBA2K  ...                    0                      0\n",
              "\n",
              "[5 rows x 36 columns]"
            ]
          },
          "metadata": {},
          "execution_count": 290
        }
      ]
    },
    {
      "cell_type": "code",
      "source": [
        "df_keras = df_keras.drop('Entity', axis=1)"
      ],
      "metadata": {
        "id": "1Kbk7cS5SKvB"
      },
      "execution_count": 291,
      "outputs": []
    },
    {
      "cell_type": "markdown",
      "source": [
        "**Le damos un valor númerico al sentimiento**"
      ],
      "metadata": {
        "id": "N833ze8NcCWt"
      }
    },
    {
      "cell_type": "code",
      "source": [
        "class_to_index = {\"Neutral\":0, \"Irrelevant\":1, \"Negative\":2, \"Positive\": 3}\n",
        "index_to_class = dict((v,k) for k, v in class_to_index.items())\n",
        "names_to_ids = lambda n: np.array([class_to_index.get(x) for x in n])\n",
        "ids_to_names = lambda n: np.array([index_to_class.get(x) for x in n])\n",
        "df_keras[\"Sentiment\"] = names_to_ids(df_keras[\"Sentiment\"])\n",
        "df_keras.head()"
      ],
      "metadata": {
        "colab": {
          "base_uri": "https://localhost:8080/",
          "height": 416
        },
        "id": "99cU3BHeTea0",
        "outputId": "87005569-2134-4f97-cc75-ba01d8a72e83"
      },
      "execution_count": 292,
      "outputs": [
        {
          "output_type": "execute_result",
          "data": {
            "text/html": [
              "<div>\n",
              "<style scoped>\n",
              "    .dataframe tbody tr th:only-of-type {\n",
              "        vertical-align: middle;\n",
              "    }\n",
              "\n",
              "    .dataframe tbody tr th {\n",
              "        vertical-align: top;\n",
              "    }\n",
              "\n",
              "    .dataframe thead th {\n",
              "        text-align: right;\n",
              "    }\n",
              "</style>\n",
              "<table border=\"1\" class=\"dataframe\">\n",
              "  <thead>\n",
              "    <tr style=\"text-align: right;\">\n",
              "      <th></th>\n",
              "      <th>Tweet_ID</th>\n",
              "      <th>Sentiment</th>\n",
              "      <th>Tweet_Content</th>\n",
              "      <th>Entity_Amazon</th>\n",
              "      <th>Entity_ApexLegends</th>\n",
              "      <th>Entity_AssassinsCreed</th>\n",
              "      <th>Entity_Battlefield</th>\n",
              "      <th>Entity_Borderlands</th>\n",
              "      <th>Entity_CS-GO</th>\n",
              "      <th>Entity_CallOfDuty</th>\n",
              "      <th>Entity_CallOfDutyBlackopsColdWar</th>\n",
              "      <th>Entity_Cyberpunk2077</th>\n",
              "      <th>Entity_Dota2</th>\n",
              "      <th>Entity_FIFA</th>\n",
              "      <th>Entity_Facebook</th>\n",
              "      <th>Entity_Fortnite</th>\n",
              "      <th>Entity_Google</th>\n",
              "      <th>Entity_GrandTheftAuto(GTA)</th>\n",
              "      <th>Entity_Hearthstone</th>\n",
              "      <th>Entity_HomeDepot</th>\n",
              "      <th>Entity_LeagueOfLegends</th>\n",
              "      <th>Entity_MaddenNFL</th>\n",
              "      <th>Entity_Microsoft</th>\n",
              "      <th>Entity_NBA2K</th>\n",
              "      <th>Entity_Nvidia</th>\n",
              "      <th>Entity_Overwatch</th>\n",
              "      <th>Entity_PlayStation5(PS5)</th>\n",
              "      <th>Entity_PlayerUnknownsBattlegrounds(PUBG)</th>\n",
              "      <th>Entity_RedDeadRedemption(RDR)</th>\n",
              "      <th>Entity_TomClancysGhostRecon</th>\n",
              "      <th>Entity_TomClancysRainbowSix</th>\n",
              "      <th>Entity_Verizon</th>\n",
              "      <th>Entity_WorldOfCraft</th>\n",
              "      <th>Entity_Xbox(Xseries)</th>\n",
              "      <th>Entity_johnson&amp;johnson</th>\n",
              "    </tr>\n",
              "  </thead>\n",
              "  <tbody>\n",
              "    <tr>\n",
              "      <th>0</th>\n",
              "      <td>10882</td>\n",
              "      <td>0</td>\n",
              "      <td>Filter selfies are I AM getting pretty murdere...</td>\n",
              "      <td>0</td>\n",
              "      <td>0</td>\n",
              "      <td>0</td>\n",
              "      <td>0</td>\n",
              "      <td>0</td>\n",
              "      <td>0</td>\n",
              "      <td>0</td>\n",
              "      <td>0</td>\n",
              "      <td>0</td>\n",
              "      <td>0</td>\n",
              "      <td>0</td>\n",
              "      <td>0</td>\n",
              "      <td>0</td>\n",
              "      <td>0</td>\n",
              "      <td>0</td>\n",
              "      <td>0</td>\n",
              "      <td>0</td>\n",
              "      <td>0</td>\n",
              "      <td>0</td>\n",
              "      <td>0</td>\n",
              "      <td>0</td>\n",
              "      <td>0</td>\n",
              "      <td>0</td>\n",
              "      <td>0</td>\n",
              "      <td>0</td>\n",
              "      <td>0</td>\n",
              "      <td>1</td>\n",
              "      <td>0</td>\n",
              "      <td>0</td>\n",
              "      <td>0</td>\n",
              "      <td>0</td>\n",
              "      <td>0</td>\n",
              "    </tr>\n",
              "    <tr>\n",
              "      <th>1</th>\n",
              "      <td>9219</td>\n",
              "      <td>3</td>\n",
              "      <td>Great game night with my husband @ xtremefanat...</td>\n",
              "      <td>0</td>\n",
              "      <td>0</td>\n",
              "      <td>0</td>\n",
              "      <td>0</td>\n",
              "      <td>0</td>\n",
              "      <td>0</td>\n",
              "      <td>0</td>\n",
              "      <td>0</td>\n",
              "      <td>0</td>\n",
              "      <td>0</td>\n",
              "      <td>0</td>\n",
              "      <td>0</td>\n",
              "      <td>0</td>\n",
              "      <td>0</td>\n",
              "      <td>0</td>\n",
              "      <td>0</td>\n",
              "      <td>0</td>\n",
              "      <td>0</td>\n",
              "      <td>0</td>\n",
              "      <td>0</td>\n",
              "      <td>0</td>\n",
              "      <td>0</td>\n",
              "      <td>1</td>\n",
              "      <td>0</td>\n",
              "      <td>0</td>\n",
              "      <td>0</td>\n",
              "      <td>0</td>\n",
              "      <td>0</td>\n",
              "      <td>0</td>\n",
              "      <td>0</td>\n",
              "      <td>0</td>\n",
              "      <td>0</td>\n",
              "    </tr>\n",
              "    <tr>\n",
              "      <th>2</th>\n",
              "      <td>8880</td>\n",
              "      <td>2</td>\n",
              "      <td>Do not understand how Nvidia can issue a card ...</td>\n",
              "      <td>0</td>\n",
              "      <td>0</td>\n",
              "      <td>0</td>\n",
              "      <td>0</td>\n",
              "      <td>0</td>\n",
              "      <td>0</td>\n",
              "      <td>0</td>\n",
              "      <td>0</td>\n",
              "      <td>0</td>\n",
              "      <td>0</td>\n",
              "      <td>0</td>\n",
              "      <td>0</td>\n",
              "      <td>0</td>\n",
              "      <td>0</td>\n",
              "      <td>0</td>\n",
              "      <td>0</td>\n",
              "      <td>0</td>\n",
              "      <td>0</td>\n",
              "      <td>0</td>\n",
              "      <td>0</td>\n",
              "      <td>0</td>\n",
              "      <td>1</td>\n",
              "      <td>0</td>\n",
              "      <td>0</td>\n",
              "      <td>0</td>\n",
              "      <td>0</td>\n",
              "      <td>0</td>\n",
              "      <td>0</td>\n",
              "      <td>0</td>\n",
              "      <td>0</td>\n",
              "      <td>0</td>\n",
              "      <td>0</td>\n",
              "    </tr>\n",
              "    <tr>\n",
              "      <th>3</th>\n",
              "      <td>666</td>\n",
              "      <td>3</td>\n",
              "      <td>Oh man how this story is very good!!.. -. -...</td>\n",
              "      <td>0</td>\n",
              "      <td>1</td>\n",
              "      <td>0</td>\n",
              "      <td>0</td>\n",
              "      <td>0</td>\n",
              "      <td>0</td>\n",
              "      <td>0</td>\n",
              "      <td>0</td>\n",
              "      <td>0</td>\n",
              "      <td>0</td>\n",
              "      <td>0</td>\n",
              "      <td>0</td>\n",
              "      <td>0</td>\n",
              "      <td>0</td>\n",
              "      <td>0</td>\n",
              "      <td>0</td>\n",
              "      <td>0</td>\n",
              "      <td>0</td>\n",
              "      <td>0</td>\n",
              "      <td>0</td>\n",
              "      <td>0</td>\n",
              "      <td>0</td>\n",
              "      <td>0</td>\n",
              "      <td>0</td>\n",
              "      <td>0</td>\n",
              "      <td>0</td>\n",
              "      <td>0</td>\n",
              "      <td>0</td>\n",
              "      <td>0</td>\n",
              "      <td>0</td>\n",
              "      <td>0</td>\n",
              "      <td>0</td>\n",
              "    </tr>\n",
              "    <tr>\n",
              "      <th>4</th>\n",
              "      <td>8539</td>\n",
              "      <td>3</td>\n",
              "      <td>H Mad respect RhandlerR .  pic.twitter.com/SFl...</td>\n",
              "      <td>0</td>\n",
              "      <td>0</td>\n",
              "      <td>0</td>\n",
              "      <td>0</td>\n",
              "      <td>0</td>\n",
              "      <td>0</td>\n",
              "      <td>0</td>\n",
              "      <td>0</td>\n",
              "      <td>0</td>\n",
              "      <td>0</td>\n",
              "      <td>0</td>\n",
              "      <td>0</td>\n",
              "      <td>0</td>\n",
              "      <td>0</td>\n",
              "      <td>0</td>\n",
              "      <td>0</td>\n",
              "      <td>0</td>\n",
              "      <td>0</td>\n",
              "      <td>0</td>\n",
              "      <td>0</td>\n",
              "      <td>1</td>\n",
              "      <td>0</td>\n",
              "      <td>0</td>\n",
              "      <td>0</td>\n",
              "      <td>0</td>\n",
              "      <td>0</td>\n",
              "      <td>0</td>\n",
              "      <td>0</td>\n",
              "      <td>0</td>\n",
              "      <td>0</td>\n",
              "      <td>0</td>\n",
              "      <td>0</td>\n",
              "    </tr>\n",
              "  </tbody>\n",
              "</table>\n",
              "</div>"
            ],
            "text/plain": [
              "   Tweet_ID  Sentiment  ... Entity_Xbox(Xseries)  Entity_johnson&johnson\n",
              "0     10882          0  ...                    0                       0\n",
              "1      9219          3  ...                    0                       0\n",
              "2      8880          2  ...                    0                       0\n",
              "3       666          3  ...                    0                       0\n",
              "4      8539          3  ...                    0                       0\n",
              "\n",
              "[5 rows x 35 columns]"
            ]
          },
          "metadata": {},
          "execution_count": 292
        }
      ]
    },
    {
      "cell_type": "markdown",
      "source": [
        "**NLP**"
      ],
      "metadata": {
        "id": "LnkVJJeDTxsU"
      }
    },
    {
      "cell_type": "code",
      "source": [
        "nltk.download('punkt')\n",
        "nltk.download('wordnet')"
      ],
      "metadata": {
        "colab": {
          "base_uri": "https://localhost:8080/"
        },
        "id": "hxmFeZdkTzVh",
        "outputId": "fc648684-625e-4abd-fed8-4f5ab70de5a8"
      },
      "execution_count": 272,
      "outputs": [
        {
          "output_type": "stream",
          "name": "stdout",
          "text": [
            "[nltk_data] Downloading package punkt to /root/nltk_data...\n",
            "[nltk_data]   Package punkt is already up-to-date!\n",
            "[nltk_data] Downloading package wordnet to /root/nltk_data...\n",
            "[nltk_data]   Package wordnet is already up-to-date!\n"
          ]
        },
        {
          "output_type": "execute_result",
          "data": {
            "text/plain": [
              "True"
            ]
          },
          "metadata": {},
          "execution_count": 272
        }
      ]
    },
    {
      "cell_type": "markdown",
      "source": [
        "**Separar la frase en una lista de palabras**"
      ],
      "metadata": {
        "id": "xXgeLmxVUdxs"
      }
    },
    {
      "cell_type": "code",
      "source": [
        "df_keras[\"Tweet_Content_Split\"] = df_keras[\"Tweet_Content\"].apply(word_tokenize)\n",
        "df_keras[\"Tweet_Content_Split\"]"
      ],
      "metadata": {
        "colab": {
          "base_uri": "https://localhost:8080/"
        },
        "id": "6EvmF-pMUY_j",
        "outputId": "368a14c5-eef4-4ed8-dbba-e45624b07958"
      },
      "execution_count": 293,
      "outputs": [
        {
          "output_type": "execute_result",
          "data": {
            "text/plain": [
              "0       [Filter, selfies, are, I, AM, getting, pretty,...\n",
              "1       [Great, game, night, with, my, husband, @, xtr...\n",
              "2       [Do, not, understand, how, Nvidia, can, issue,...\n",
              "3       [Oh, man, how, this, story, is, very, good, !,...\n",
              "4       [H, Mad, respect, RhandlerR, ., pic.twitter.co...\n",
              "                              ...                        \n",
              "7395    [I, enjoy, the, details, that, Leo, captures, ...\n",
              "7396    [Wow, @, N2K, wtf, why, Park, &, Rec, ?, ?, ?,...\n",
              "7397     [Double, DOG, !, Wtf, think, is, Vick, doing, ?]\n",
              "7398    [Wow, the, new, upgrading, update, for, ..., L...\n",
              "7399    [I, love, playing, gta, and, cod, always, so, ...\n",
              "Name: Tweet_Content_Split, Length: 7400, dtype: object"
            ]
          },
          "metadata": {},
          "execution_count": 293
        }
      ]
    },
    {
      "cell_type": "markdown",
      "source": [
        "**Función para remover conectores dentro de la frase**"
      ],
      "metadata": {
        "id": "JIl7MnN-YKpW"
      }
    },
    {
      "cell_type": "code",
      "source": [
        "def remove_stopwords(ls):\n",
        "    ls = [lemmatiser.lemmatize(word) for word in ls if word not in (stop_english) and (word.isalpha())]\n",
        "    ls = \" \".join(ls)\n",
        "    return ls"
      ],
      "metadata": {
        "id": "YM1RqiJ6T5MU"
      },
      "execution_count": 294,
      "outputs": []
    },
    {
      "cell_type": "markdown",
      "source": [
        "**Realizamos una lematización en la palabra**"
      ],
      "metadata": {
        "id": "IEIPOq-wYW6p"
      }
    },
    {
      "cell_type": "code",
      "source": [
        "lemmatiser = WordNetLemmatizer()\n",
        "stop_english = Counter(stopwords.words())\n",
        "df_keras[\"Tweet_Content_Split\"] = df_keras[\"Tweet_Content_Split\"].apply(remove_stopwords)\n",
        "df_keras[\"Tweet_Content_Split\"]"
      ],
      "metadata": {
        "colab": {
          "base_uri": "https://localhost:8080/"
        },
        "id": "bgVqGMj5Updm",
        "outputId": "5d794d21-0b13-4896-c74f-15bb6d0a7e2c"
      },
      "execution_count": 295,
      "outputs": [
        {
          "output_type": "execute_result",
          "data": {
            "text/plain": [
              "0       Filter selfies I AM getting pretty murdered an...\n",
              "1       Great game night husband xtremefanatik friend ...\n",
              "2       Do understand Nvidia issue card merchant witho...\n",
              "3                                           Oh story good\n",
              "4                                 H Mad respect RhandlerR\n",
              "                              ...                        \n",
              "7395                      I enjoy detail Leo capture game\n",
              "7396      Wow wtf Park Rec Spend much money game supposed\n",
              "7397                            Double DOG Wtf think Vick\n",
              "7398    Wow new upgrading update Lots Splinter Cell th...\n",
              "7399             I love playing gta cod always passionate\n",
              "Name: Tweet_Content_Split, Length: 7400, dtype: object"
            ]
          },
          "metadata": {},
          "execution_count": 295
        }
      ]
    },
    {
      "cell_type": "markdown",
      "source": [
        "**Escaneamos la palabra**"
      ],
      "metadata": {
        "id": "f2ywyFCdYjjs"
      }
    },
    {
      "cell_type": "code",
      "source": [
        "tokeniser = Tokenizer(num_words=1000, lower=True)\n",
        "tokeniser.fit_on_texts(df_keras[\"Tweet_Content_Split\"])"
      ],
      "metadata": {
        "id": "AVUx5bH2VGbx"
      },
      "execution_count": 296,
      "outputs": []
    },
    {
      "cell_type": "code",
      "source": [
        "tweet_tokens = tokeniser.texts_to_matrix(list(df_keras[\"Tweet_Content_Split\"]))"
      ],
      "metadata": {
        "id": "QrFeePaKVBiK"
      },
      "execution_count": 297,
      "outputs": []
    },
    {
      "cell_type": "code",
      "source": [
        "full_df = pd.concat([df_keras, pd.DataFrame(tweet_tokens)], sort=False, axis=1)"
      ],
      "metadata": {
        "id": "YMy7T8rZVaQn"
      },
      "execution_count": 298,
      "outputs": []
    },
    {
      "cell_type": "code",
      "source": [
        "y = full_df[\"Sentiment\"]\n",
        "full_df = full_df.drop([\"Sentiment\", \"Tweet_ID\", \"Tweet_Content\", \"Tweet_Content_Split\"], axis=1)"
      ],
      "metadata": {
        "id": "WA23UlZcVfWN"
      },
      "execution_count": 299,
      "outputs": []
    },
    {
      "cell_type": "markdown",
      "source": [
        "**Dividimos el dataset en los conjuntos de prueba y entrenamiento**"
      ],
      "metadata": {
        "id": "QWRHx_lOYrGz"
      }
    },
    {
      "cell_type": "code",
      "source": [
        "X_train_keras, X_test_keras, y_train_keras, y_test_keras = train_test_split(full_df, y, test_size=0.2, random_state=1)"
      ],
      "metadata": {
        "id": "-nUc1gXJVmLR"
      },
      "execution_count": 300,
      "outputs": []
    },
    {
      "cell_type": "markdown",
      "source": [
        "**Creamos el modelo**"
      ],
      "metadata": {
        "id": "GRqbIQq6YwXL"
      }
    },
    {
      "cell_type": "code",
      "source": [
        "model = tf.keras.models.Sequential([\n",
        "    tf.keras.layers.Dense(12, input_dim=1032, activation='relu'),\n",
        "    tf.keras.layers.Dense(8, activation='relu'),\n",
        "    tf.keras.layers.Dense(50, activation='relu'),\n",
        "    tf.keras.layers.Dropout(0.1),\n",
        "    tf.keras.layers.Dense(12, activation='relu'),\n",
        "    tf.keras.layers.Dense(50, activation='relu'),\n",
        "    tf.keras.layers.Dense(4, activation='sigmoid')\n",
        "])\n",
        "model.compile(\n",
        "     loss='sparse_categorical_crossentropy',\n",
        "     optimizer='adam',\n",
        "     metrics=['accuracy']\n",
        ")"
      ],
      "metadata": {
        "id": "E4cu3qifVt0a"
      },
      "execution_count": 301,
      "outputs": []
    },
    {
      "cell_type": "markdown",
      "source": [
        "**Entrenamos el modelo con 10 iteraciones**"
      ],
      "metadata": {
        "id": "vzN0sFIGY3K3"
      }
    },
    {
      "cell_type": "code",
      "source": [
        "h = model.fit(\n",
        "     X_train_keras, y_train_keras,\n",
        "     validation_data=(X_test_keras, y_test_keras),\n",
        "     epochs=10,\n",
        "     callbacks=[tf.keras.callbacks.EarlyStopping(monitor='accuracy', patience=5)]\n",
        ")"
      ],
      "metadata": {
        "colab": {
          "base_uri": "https://localhost:8080/"
        },
        "id": "LEsXULwAVw3Z",
        "outputId": "c03ff18f-ccd1-487f-e463-87fc92ceba0a"
      },
      "execution_count": 302,
      "outputs": [
        {
          "output_type": "stream",
          "name": "stdout",
          "text": [
            "Epoch 1/10\n",
            "185/185 [==============================] - 1s 4ms/step - loss: 1.3215 - accuracy: 0.3647 - val_loss: 1.1948 - val_accuracy: 0.4608\n",
            "Epoch 2/10\n",
            "185/185 [==============================] - 0s 2ms/step - loss: 1.0848 - accuracy: 0.5277 - val_loss: 1.1100 - val_accuracy: 0.5291\n",
            "Epoch 3/10\n",
            "185/185 [==============================] - 0s 2ms/step - loss: 0.9249 - accuracy: 0.6302 - val_loss: 1.0969 - val_accuracy: 0.5622\n",
            "Epoch 4/10\n",
            "185/185 [==============================] - 0s 2ms/step - loss: 0.8183 - accuracy: 0.6851 - val_loss: 1.1327 - val_accuracy: 0.5642\n",
            "Epoch 5/10\n",
            "185/185 [==============================] - 0s 3ms/step - loss: 0.7224 - accuracy: 0.7299 - val_loss: 1.1656 - val_accuracy: 0.5554\n",
            "Epoch 6/10\n",
            "185/185 [==============================] - 0s 2ms/step - loss: 0.6399 - accuracy: 0.7696 - val_loss: 1.2284 - val_accuracy: 0.5608\n",
            "Epoch 7/10\n",
            "185/185 [==============================] - 0s 2ms/step - loss: 0.5661 - accuracy: 0.7983 - val_loss: 1.2906 - val_accuracy: 0.5568\n",
            "Epoch 8/10\n",
            "185/185 [==============================] - 0s 2ms/step - loss: 0.5055 - accuracy: 0.8242 - val_loss: 1.4323 - val_accuracy: 0.5581\n",
            "Epoch 9/10\n",
            "185/185 [==============================] - 0s 2ms/step - loss: 0.4596 - accuracy: 0.8365 - val_loss: 1.5407 - val_accuracy: 0.5615\n",
            "Epoch 10/10\n",
            "185/185 [==============================] - 0s 2ms/step - loss: 0.4213 - accuracy: 0.8520 - val_loss: 1.6449 - val_accuracy: 0.5520\n"
          ]
        }
      ]
    },
    {
      "cell_type": "markdown",
      "source": [
        "**Gráfico de los resultados obtenidos**"
      ],
      "metadata": {
        "id": "33ufrurIZHFs"
      }
    },
    {
      "cell_type": "code",
      "source": [
        "y_pred_keras = np.argmax(model.predict(X_test_keras), axis=1)\n",
        "y_pred_labels = ids_to_names(y_pred_keras)\n",
        "y_test_labels = ids_to_names(y_test_keras)\n",
        "y_unique = list(set(y_test_labels))\n",
        "cm = confusion_matrix(y_test_labels, y_pred_labels, labels = y_unique, normalize='true')\n",
        "\n",
        "disp = ConfusionMatrixDisplay(confusion_matrix=cm, display_labels=y_unique)\n",
        "disp.plot()"
      ],
      "metadata": {
        "colab": {
          "base_uri": "https://localhost:8080/",
          "height": 297
        },
        "id": "sDOgyJg9WFP9",
        "outputId": "b7263570-48ed-43b6-dc2a-64bf20470d3c"
      },
      "execution_count": 303,
      "outputs": [
        {
          "output_type": "execute_result",
          "data": {
            "text/plain": [
              "<sklearn.metrics._plot.confusion_matrix.ConfusionMatrixDisplay at 0x7f8319569ed0>"
            ]
          },
          "metadata": {},
          "execution_count": 303
        },
        {
          "output_type": "display_data",
          "data": {
            "image/png": "[encoded data removed]",
            "text/plain": [
              "<Figure size 432x288 with 2 Axes>"
            ]
          },
          "metadata": {
            "needs_background": "light"
          }
        }
      ]
    },
    {
      "cell_type": "markdown",
      "source": [
        "**Precision general del modelo**"
      ],
      "metadata": {
        "id": "wENlInkEZL16"
      }
    },
    {
      "cell_type": "code",
      "source": [
        "keras_accuracy = accuracy_score(y_test_keras, y_pred_keras)\n",
        "keras_accuracy"
      ],
      "metadata": {
        "colab": {
          "base_uri": "https://localhost:8080/"
        },
        "id": "cvod5g9JXDp0",
        "outputId": "d9966b72-666a-4d9d-a1f3-119e1ed0c566"
      },
      "execution_count": 325,
      "outputs": [
        {
          "output_type": "execute_result",
          "data": {
            "text/plain": [
              "0.552027027027027"
            ]
          },
          "metadata": {},
          "execution_count": 325
        }
      ]
    },
    {
      "cell_type": "markdown",
      "source": [
        "**Gráfico precisión al entrenar el modelo**"
      ],
      "metadata": {
        "id": "yveuMmkS5mrq"
      }
    },
    {
      "cell_type": "code",
      "source": [
        "epochs_keras = {'Epoch': ['1', '2', '3', '4', '5', '6', '7', '8', '9', '10'], 'Accuracy': h.history['accuracy']}\n",
        "epochs_table = pd.DataFrame(epochs_keras, columns = ['Epoch', 'Accuracy'])\n",
        "g = sns.lineplot(x = 'Epoch', y = 'Accuracy', data = epochs_table, color = 'green')\n",
        "\n",
        "for x, y in zip(epochs_table['Epoch'], epochs_table['Accuracy']):\n",
        " plt.text(x = x, y = y, s = '{:.4f}'.format(y)) \n",
        "\n",
        "g.set(title='Entrenamiento')\n",
        "plt.grid('y')\n",
        "plt.show()"
      ],
      "metadata": {
        "colab": {
          "base_uri": "https://localhost:8080/",
          "height": 294
        },
        "id": "qDqImFf9wLFu",
        "outputId": "b21caf21-90eb-4e5d-8116-ee3d3f3d2ca4"
      },
      "execution_count": 341,
      "outputs": [
        {
          "output_type": "display_data",
          "data": {
            "image/png": "[encoded data removed]",
            "text/plain": [
              "<Figure size 432x288 with 1 Axes>"
            ]
          },
          "metadata": {
            "needs_background": "light"
          }
        }
      ]
    },
    {
      "cell_type": "markdown",
      "source": [
        "# **Comparación de modelos**"
      ],
      "metadata": {
        "id": "YB2mWwV1rq51"
      }
    },
    {
      "cell_type": "code",
      "source": [
        "def mostrarValores(grafico):\n",
        "    for p in grafico.patches:\n",
        "      _x = p.get_x() + p.get_width() / 2\n",
        "      _y = p.get_y() + p.get_height() + (p.get_height()*0.01)\n",
        "      value = '{:.4f}'.format(p.get_height())\n",
        "      grafico.text(_x, _y, value, ha=\"center\") "
      ],
      "metadata": {
        "id": "fAKZnV2atGOY"
      },
      "execution_count": 327,
      "outputs": []
    },
    {
      "cell_type": "code",
      "source": [
        "accuracy_models = {'Modelos': ['Keras', 'Random Forest Classifier'], 'Precisión': [keras_accuracy, rfc_accuracy]}\n",
        "accuracy_table = pd.DataFrame(accuracy_models, columns = ['Modelos', 'Precisión'])\n",
        "grafico = sns.barplot(x = 'Modelos', y = 'Precisión', data = accuracy_table)\n",
        "mostrarValores(grafico,)\n",
        "plt.grid('y')\n",
        "grafico.set(title='Precisión al clasificar')\n",
        "plt.show()\n"
      ],
      "metadata": {
        "colab": {
          "base_uri": "https://localhost:8080/",
          "height": 294
        },
        "id": "obnwbW1Krtf9",
        "outputId": "5f33f4c7-763b-4cfd-badc-8f4b2921d504"
      },
      "execution_count": 339,
      "outputs": [
        {
          "output_type": "display_data",
          "data": {
            "image/png": "[encoded data removed]",
            "text/plain": [
              "<Figure size 432x288 with 1 Axes>"
            ]
          },
          "metadata": {
            "needs_background": "light"
          }
        }
      ]
    }
  ],
  "metadata": {
    "colab": {
      "collapsed_sections": [],
      "name": "test.ipynb",
      "provenance": []
    },
    "kernelspec": {
      "display_name": "Python 3",
      "name": "python3"
    },
    "language_info": {
      "name": "python"
    }
  },
  "nbformat": 4,
  "nbformat_minor": 0
}